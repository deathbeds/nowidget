{
 "cells": [
  {
   "cell_type": "code",
   "execution_count": 1,
   "metadata": {},
   "outputs": [],
   "source": [
    "    %load_ext nowidget\n",
    "    import nowidget.test"
   ]
  },
  {
   "cell_type": "code",
   "execution_count": 2,
   "metadata": {},
   "outputs": [],
   "source": [
    "    def good_idea():\n",
    "        assert True\n",
    "    def bad_idea():\n",
    "        assert False        "
   ]
  },
  {
   "cell_type": "code",
   "execution_count": 3,
   "metadata": {},
   "outputs": [],
   "source": [
    "    import unittest"
   ]
  },
  {
   "cell_type": "code",
   "execution_count": 4,
   "metadata": {},
   "outputs": [
    {
     "data": {
      "text/markdown": [
       "```pytb\n",
       "Traceback (most recent call last):\n",
       "  File \"<ipython-input-4-b019b4152eb6>\", line 3, in test_0\n",
       "    self.assertTrue(0)\n",
       "AssertionError: 0 is not true\n",
       "```"
      ],
      "text/plain": [
       "<IPython.core.display.Markdown object>"
      ]
     },
     "metadata": {},
     "output_type": "display_data"
    }
   ],
   "source": [
    "    class Test(unittest.TestCase):\n",
    "        def test_0(self):\n",
    "            self.assertTrue(0)\n",
    "        def test_1(self):\n",
    "            self.assertFalse(0)"
   ]
  },
  {
   "cell_type": "code",
   "execution_count": 5,
   "metadata": {},
   "outputs": [],
   "source": [
    "    tests = \"\"\">>> assert True\\n>>> assert False\"\"\", good_idea, bad_idea, \"\"\">>> 10\n",
    "    10\"\"\", Test"
   ]
  },
  {
   "cell_type": "code",
   "execution_count": 6,
   "metadata": {},
   "outputs": [
    {
     "data": {
      "text/plain": [
       "<unittest.suite.TestSuite tests=[<doctest._DocTestSuite tests=[__main__ ()]>, <unittest.case.FunctionTestCase tec=<function good_idea at 0x7fb14c49fe60>>, <unittest.case.FunctionTestCase tec=<function bad_idea at 0x7fb14c49ff80>>, <doctest._DocTestSuite tests=[__main__ ()]>, <unittest.suite.TestSuite tests=[<__main__.Test testMethod=test_0>, <__main__.Test testMethod=test_1>]>]>"
      ]
     },
     "execution_count": 6,
     "metadata": {},
     "output_type": "execute_result"
    }
   ],
   "source": [
    "    suite = nowidget.test.collect(__name__, *tests)\n",
    "    suite"
   ]
  },
  {
   "cell_type": "code",
   "execution_count": 7,
   "metadata": {},
   "outputs": [
    {
     "name": "stdout",
     "output_type": "stream",
     "text": [
      "<unittest.result.TestResult run=6 errors=0 failures=3>\n"
     ]
    }
   ],
   "source": [
    "    result = nowidget.test.run(suite)\n",
    "    print(result)"
   ]
  },
  {
   "cell_type": "code",
   "execution_count": 8,
   "metadata": {},
   "outputs": [],
   "source": [
    "    test = nowidget.test.Test(__name__, *tests)"
   ]
  },
  {
   "cell_type": "code",
   "execution_count": 9,
   "metadata": {},
   "outputs": [
    {
     "data": {
      "text/markdown": [
       "```pytb\n",
       "\n",
       "File \"__main__\", line 3, in __main__\n",
       "Failed example:\n",
       "    assert False\n",
       "Exception raised:\n",
       "    Traceback (most recent call last):\n",
       "      File \"/home/tonyfast/miniconda3/lib/python3.7/doctest.py\", line 1330, in __run\n",
       "        compileflags, 1), test.globs)\n",
       "      File \"In[8]\", line 1, in <module>\n",
       "    AssertionError\n",
       "\n",
       "\n",
       "Traceback (most recent call last):\n",
       "  File \"<ipython-input-2-34499918370f>\", line 4, in bad_idea\n",
       "    assert False\n",
       "AssertionError\n",
       "\n",
       "Traceback (most recent call last):\n",
       "  File \"<ipython-input-4-b019b4152eb6>\", line 3, in test_0\n",
       "    self.assertTrue(0)\n",
       "AssertionError: 0 is not true\n",
       "```"
      ],
      "text/plain": [
       "<IPython.core.display.Markdown object>"
      ]
     },
     "metadata": {},
     "output_type": "display_data"
    }
   ],
   "source": [
    "    test"
   ]
  },
  {
   "cell_type": "code",
   "execution_count": 10,
   "metadata": {},
   "outputs": [],
   "source": [
    "    foo = 1000"
   ]
  },
  {
   "cell_type": "code",
   "execution_count": 11,
   "metadata": {},
   "outputs": [
    {
     "data": {
      "text/markdown": [
       "```pytb\n",
       "Traceback (most recent call last):\n",
       "  File \"<ipython-input-11-e13ea0a0abaa>\", line 2, in test_f\n",
       "    assert not foo\n",
       "AssertionError\n",
       "```"
      ],
      "text/plain": [
       "<IPython.core.display.Markdown object>"
      ]
     },
     "metadata": {},
     "output_type": "display_data"
    }
   ],
   "source": [
    "    def test_f():\n",
    "        assert not foo\n",
    "        \n",
    "    def test_g():\n",
    "        assert \"a\"*foo"
   ]
  }
 ],
 "metadata": {
  "kernelspec": {
   "display_name": "Python 3",
   "language": "python",
   "name": "python3"
  },
  "language_info": {
   "codemirror_mode": {
    "name": "ipython",
    "version": 3
   },
   "file_extension": ".py",
   "mimetype": "text/x-python",
   "name": "python",
   "nbconvert_exporter": "python",
   "pygments_lexer": "ipython3",
   "version": "3.7.7"
  }
 },
 "nbformat": 4,
 "nbformat_minor": 4
}
