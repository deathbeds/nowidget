{
 "cells": [
  {
   "cell_type": "markdown",
   "metadata": {},
   "source": [
    "basic ipython usage"
   ]
  },
  {
   "cell_type": "code",
   "execution_count": 1,
   "metadata": {},
   "outputs": [
    {
     "data": {
      "text/plain": [
       "(True, True, False)"
      ]
     },
     "execution_count": 1,
     "metadata": {},
     "output_type": "execute_result"
    }
   ],
   "source": [
    "    import nowidget.states, pytest, _pytest\n",
    "    bool(nowidget.states.IPYTHON), bool(nowidget.states.MAIN), bool(nowidget.states.PYTEST)"
   ]
  },
  {
   "cell_type": "markdown",
   "metadata": {},
   "source": [
    "a file to try under different contexts"
   ]
  },
  {
   "cell_type": "code",
   "execution_count": 2,
   "metadata": {},
   "outputs": [
    {
     "name": "stdout",
     "output_type": "stream",
     "text": [
      "Overwriting pytest_state.py\n"
     ]
    }
   ],
   "source": [
    "    %%file pytest_state.py\n",
    "    import nowidget.states\n",
    "    def test_():\n",
    "        print(bool(nowidget.states.IPYTHON), bool(nowidget.states.MAIN), bool(nowidget.states.PYTEST))\n",
    "    test_()"
   ]
  },
  {
   "cell_type": "markdown",
   "metadata": {},
   "source": [
    "imported as a module"
   ]
  },
  {
   "cell_type": "code",
   "execution_count": 3,
   "metadata": {},
   "outputs": [
    {
     "name": "stdout",
     "output_type": "stream",
     "text": [
      "True False False\n"
     ]
    }
   ],
   "source": [
    "    #NBVAL_IGNORE_OUTPUT\n",
    "    import pytest_state"
   ]
  },
  {
   "cell_type": "markdown",
   "metadata": {},
   "source": [
    "running as a script"
   ]
  },
  {
   "cell_type": "code",
   "execution_count": 4,
   "metadata": {},
   "outputs": [
    {
     "name": "stdout",
     "output_type": "stream",
     "text": [
      "False True False\n"
     ]
    }
   ],
   "source": [
    "    !python pytest_state.py"
   ]
  },
  {
   "cell_type": "code",
   "execution_count": 5,
   "metadata": {},
   "outputs": [
    {
     "name": "stdout",
     "output_type": "stream",
     "text": [
      "False False True\n",
      "collected 1 item\n",
      "\n",
      "<Module pytest_state.py>\n",
      "  <Function test_>\n",
      "\n",
      "============================ no tests ran in 0.07s =============================\n"
     ]
    }
   ],
   "source": [
    "    pt = !pytest --collect-only -cpytest_state.py -spno:warnings pytest_state.py\n",
    "    print('\\n'.join(pt[4:]))"
   ]
  },
  {
   "cell_type": "markdown",
   "metadata": {},
   "source": [
    "running pytest inside ipython."
   ]
  },
  {
   "cell_type": "code",
   "execution_count": 6,
   "metadata": {},
   "outputs": [],
   "source": [
    "    it = !ipython -m pytest -- --collect-only -cpytest_state.py -spno:warnings pytest_state.py"
   ]
  },
  {
   "cell_type": "code",
   "execution_count": 7,
   "metadata": {},
   "outputs": [
    {
     "name": "stdout",
     "output_type": "stream",
     "text": [
      "True False True\n",
      "collected 1 item\n",
      "\n",
      "<Module pytest_state.py>\n",
      "  <Function test_>\n",
      "\n",
      "============================ no tests ran in 0.13s =============================\n"
     ]
    }
   ],
   "source": [
    "    print('\\n'.join(it[4:]))"
   ]
  },
  {
   "cell_type": "code",
   "execution_count": 8,
   "metadata": {},
   "outputs": [],
   "source": [
    "    !rm pytest_state.py"
   ]
  }
 ],
 "metadata": {
  "kernelspec": {
   "display_name": "Python 3",
   "language": "python",
   "name": "python3"
  },
  "language_info": {
   "codemirror_mode": {
    "name": "ipython",
    "version": 3
   },
   "file_extension": ".py",
   "mimetype": "text/x-python",
   "name": "python",
   "nbconvert_exporter": "python",
   "pygments_lexer": "ipython3",
   "version": "3.7.7"
  }
 },
 "nbformat": 4,
 "nbformat_minor": 4
}
