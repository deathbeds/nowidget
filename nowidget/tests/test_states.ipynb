{
 "cells": [
  {
   "cell_type": "markdown",
   "metadata": {},
   "source": [
    "basic ipython usage"
   ]
  },
  {
   "cell_type": "code",
   "execution_count": 1,
   "metadata": {},
   "outputs": [
    {
     "data": {
      "text/plain": [
       "(True, True, False)"
      ]
     },
     "execution_count": 1,
     "metadata": {},
     "output_type": "execute_result"
    }
   ],
   "source": [
    "    import nowidget.states, pytest, _pytest\n",
    "    bool(nowidget.states.IPYTHON), bool(nowidget.states.MAIN), bool(nowidget.states.PYTEST)"
   ]
  },
  {
   "cell_type": "markdown",
   "metadata": {},
   "source": [
    "a file to try under different contexts"
   ]
  },
  {
   "cell_type": "code",
   "execution_count": 2,
   "metadata": {},
   "outputs": [
    {
     "name": "stdout",
     "output_type": "stream",
     "text": [
      "Writing pytest_state.py\n"
     ]
    }
   ],
   "source": [
    "    %%file pytest_state.py\n",
    "    import nowidget.states\n",
    "    def test_():\n",
    "        print(bool(nowidget.states.IPYTHON), bool(nowidget.states.MAIN), bool(nowidget.states.PYTEST))\n",
    "    test_()"
   ]
  },
  {
   "cell_type": "markdown",
   "metadata": {},
   "source": [
    "imported as a module"
   ]
  },
  {
   "cell_type": "code",
   "execution_count": 3,
   "metadata": {},
   "outputs": [
    {
     "name": "stdout",
     "output_type": "stream",
     "text": [
      "True False False\n"
     ]
    }
   ],
   "source": [
    "    #NBVAL_IGNORE_OUTPUT\n",
    "    import pytest_state"
   ]
  },
  {
   "cell_type": "markdown",
   "metadata": {},
   "source": [
    "running as a script"
   ]
  },
  {
   "cell_type": "code",
   "execution_count": 4,
   "metadata": {},
   "outputs": [
    {
     "name": "stdout",
     "output_type": "stream",
     "text": [
      "False True False\n"
     ]
    }
   ],
   "source": [
    "    !python pytest_state.py"
   ]
  },
  {
   "cell_type": "code",
   "execution_count": 5,
   "metadata": {},
   "outputs": [
    {
     "name": "stdout",
     "output_type": "stream",
     "text": [
      "\u001b[1m============================= test session starts ==============================\u001b[0m\n",
      "platform linux -- Python 3.7.7, pytest-6.1.1, py-1.9.0, pluggy-0.13.1\n",
      "rootdir: /home/tonyfast/Documents/nowidget/nowidget/tests, configfile: pytest_state.py\n",
      "plugins: github-actions-annotate-failures-0.1.0, tingle-0.1.0, xonsh-0.9.22, nbval-0.9.6, cov-2.10.1, hypothesis-5.19.3, importnb-0.6.2, pidgy-2020.9.9\n",
      "\u001b[1mcollecting ... \u001b[0mFalse False True\n",
      "collected 1 item                                                               \u001b[0m\n",
      "\n",
      "<Module pytest_state.py>\n",
      "  <Function test_>\n",
      "\n",
      "\u001b[32m============================ \u001b[33mno tests ran\u001b[0m\u001b[32m in 0.05s\u001b[0m\u001b[32m =============================\u001b[0m\n"
     ]
    }
   ],
   "source": [
    "    !pytest --collect-only -cpytest_state.py -spno:warnings pytest_state.py"
   ]
  },
  {
   "cell_type": "markdown",
   "metadata": {},
   "source": [
    "running pytest inside ipython."
   ]
  },
  {
   "cell_type": "code",
   "execution_count": 6,
   "metadata": {},
   "outputs": [
    {
     "name": "stdout",
     "output_type": "stream",
     "text": [
      "\u001b[22;0t\u001b]0;IPython: nowidget/tests\u0007\u001b[1m============================= test session starts ==============================\u001b[0m\n",
      "platform linux -- Python 3.7.7, pytest-6.1.1, py-1.9.0, pluggy-0.13.1\n",
      "rootdir: /home/tonyfast/Documents/nowidget/nowidget/tests, configfile: pytest_state.py\n",
      "plugins: github-actions-annotate-failures-0.1.0, tingle-0.1.0, xonsh-0.9.22, nbval-0.9.6, cov-2.10.1, hypothesis-5.19.3, importnb-0.6.2, pidgy-2020.9.9\n",
      "\u001b[1mcollecting ... \u001b[0mTrue False True\n",
      "collected 1 item                                                               \u001b[0m\n",
      "\n",
      "<Module pytest_state.py>\n",
      "  <Function test_>\n",
      "\n",
      "\u001b[32m============================ \u001b[33mno tests ran\u001b[0m\u001b[32m in 0.11s\u001b[0m\u001b[32m =============================\u001b[0m\n"
     ]
    }
   ],
   "source": [
    "    !ipython -m pytest -- --collect-only -cpytest_state.py -spno:warnings pytest_state.py"
   ]
  },
  {
   "cell_type": "code",
   "execution_count": 7,
   "metadata": {},
   "outputs": [],
   "source": [
    "    !rm pytest_state.py"
   ]
  }
 ],
 "metadata": {
  "kernelspec": {
   "display_name": "Python 3",
   "language": "python",
   "name": "python3"
  },
  "language_info": {
   "codemirror_mode": {
    "name": "ipython",
    "version": 3
   },
   "file_extension": ".py",
   "mimetype": "text/x-python",
   "name": "python",
   "nbconvert_exporter": "python",
   "pygments_lexer": "ipython3",
   "version": "3.7.7"
  }
 },
 "nbformat": 4,
 "nbformat_minor": 4
}
