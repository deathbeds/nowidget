{
 "cells": [
  {
   "cell_type": "code",
   "execution_count": 1,
   "metadata": {},
   "outputs": [],
   "source": [
    "    %load_ext nowidget\n",
    "    %load_ext nowidget.trace"
   ]
  },
  {
   "cell_type": "code",
   "execution_count": 2,
   "metadata": {},
   "outputs": [],
   "source": [
    "    def f(x):\n",
    "        return str(x)"
   ]
  },
  {
   "cell_type": "code",
   "execution_count": 3,
   "metadata": {},
   "outputs": [],
   "source": [
    "    with shell.trace:\n",
    "        f([20])"
   ]
  },
  {
   "cell_type": "code",
   "execution_count": 4,
   "metadata": {},
   "outputs": [],
   "source": [
    "    def mul(x):\n",
    "        value = x*100\n",
    "        return getattr(value, 'values', value)"
   ]
  },
  {
   "cell_type": "code",
   "execution_count": 5,
   "metadata": {},
   "outputs": [],
   "source": [
    "    with shell.trace:\n",
    "        mul(__import__(\"pandas\").DataFrame())\n",
    "        mul(__import__(\"pandas\").DataFrame().values)"
   ]
  },
  {
   "cell_type": "code",
   "execution_count": 6,
   "metadata": {},
   "outputs": [
    {
     "name": "stdout",
     "output_type": "stream",
     "text": [
      "from numpy import ndarray\n",
      "from pandas.core.frame import DataFrame\n",
      "from typing import (\n",
      "    List,\n",
      "    Union,\n",
      ")\n",
      "\n",
      "\n",
      "def f(x: List[int]) -> str: ...\n",
      "\n",
      "\n",
      "def mul(x: Union[DataFrame, ndarray]) -> ndarray: ...\n"
     ]
    }
   ],
   "source": [
    "    print(shell.trace.stub()[__name__])"
   ]
  },
  {
   "cell_type": "code",
   "execution_count": null,
   "metadata": {},
   "outputs": [],
   "source": []
  }
 ],
 "metadata": {
  "kernelspec": {
   "display_name": "Python 3",
   "language": "python",
   "name": "python3"
  },
  "language_info": {
   "codemirror_mode": {
    "name": "ipython",
    "version": 3
   },
   "file_extension": ".py",
   "mimetype": "text/x-python",
   "name": "python",
   "nbconvert_exporter": "python",
   "pygments_lexer": "ipython3",
   "version": "3.7.7"
  }
 },
 "nbformat": 4,
 "nbformat_minor": 4
}
